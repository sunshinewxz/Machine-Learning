{
 "cells": [
  {
   "cell_type": "code",
   "execution_count": 1,
   "metadata": {},
   "outputs": [],
   "source": [
    "import matplotlib.pyplot as plt"
   ]
  },
  {
   "cell_type": "code",
   "execution_count": 16,
   "metadata": {},
   "outputs": [
    {
     "data": {
      "image/png": "[encoded data removed]",
      "text/plain": [
       "<Figure size 432x288 with 1 Axes>"
      ]
     },
     "metadata": {},
     "output_type": "display_data"
    },
    {
     "data": {
      "image/png": "[encoded data removed]",
      "text/plain": [
       "<Figure size 432x288 with 1 Axes>"
      ]
     },
     "metadata": {},
     "output_type": "display_data"
    }
   ],
   "source": [
    "passes = [10,12,15,18,20,25]\n",
    "accuracy = [0.6224690924469087, 0.6242917663119418, 0.6222366211534038, 0.6273658282037141, 0.6256569168865663, 0.6258802327680654]\n",
    "\n",
    "topic = [2,3,4,6,10,12,14,16]\n",
    "acc2 = [0.46685181933518155, 0.5102868547375918, 0.5610175317978687, 0.5987026123343333, 0.6273658282037141, 0.6266362640379275, 0.6291514055857411, 0.6217222165890526]\n",
    "\n",
    "plt.figure()\n",
    "# plt.subplot(1,2,1)\n",
    "plt.plot(topic, acc2, '-o')\n",
    "plt.ylim(bottom=0.35, top=0.65)\n",
    "plt.xlabel('# topic')\n",
    "plt.ylabel('Accuracy')\n",
    "\n",
    "# plt.subplot(1,2,2)\n",
    "plt.figure()\n",
    "plt.plot(passes, accuracy, '-o')\n",
    "plt.ylim(bottom=0.620, top=0.63)\n",
    "plt.xlabel('# passes')\n",
    "plt.ylabel('Accuracy')\n",
    "plt.tight_layout()\n",
    "plt.show()"
   ]
  },
  {
   "cell_type": "code",
   "execution_count": 17,
   "metadata": {},
   "outputs": [],
   "source": [
    "from nltk.tokenize import RegexpTokenizer\n",
    "from stop_words import get_stop_words\n",
    "from nltk.stem.porter import PorterStemmer\n",
    "from gensim import corpora, models\n",
    "import gensim\n",
    "import csv\n",
    "import numpy as np\n",
    "import pickle\n",
    "import lda"
   ]
  },
  {
   "cell_type": "code",
   "execution_count": 69,
   "metadata": {},
   "outputs": [],
   "source": [
    "train_data = np.load('train_data_shuffle.npy')\n",
    "train_label = np.load('train_label_shuffle.npy')\n",
    "val_data = np.load('val_data_shuffle.npy')\n",
    "val_label = np.load('val_label_shuffle.npy')"
   ]
  },
  {
   "cell_type": "code",
   "execution_count": 46,
   "metadata": {},
   "outputs": [
    {
     "name": "stderr",
     "output_type": "stream",
     "text": [
      "INFO:gensim.corpora.dictionary:adding document #0 to Dictionary(0 unique tokens: [])\n",
      "INFO:gensim.corpora.dictionary:adding document #10000 to Dictionary(13169 unique tokens: ['guid', 'india?', 'invest', 'market', 'share']...)\n",
      "INFO:gensim.corpora.dictionary:adding document #20000 to Dictionary(20474 unique tokens: ['guid', 'india?', 'invest', 'market', 'share']...)\n",
      "INFO:gensim.corpora.dictionary:adding document #30000 to Dictionary(26272 unique tokens: ['guid', 'india?', 'invest', 'market', 'share']...)\n",
      "INFO:gensim.corpora.dictionary:adding document #40000 to Dictionary(31503 unique tokens: ['guid', 'india?', 'invest', 'market', 'share']...)\n",
      "INFO:gensim.corpora.dictionary:adding document #50000 to Dictionary(36113 unique tokens: ['guid', 'india?', 'invest', 'market', 'share']...)\n",
      "INFO:gensim.corpora.dictionary:adding document #60000 to Dictionary(40241 unique tokens: ['guid', 'india?', 'invest', 'market', 'share']...)\n",
      "INFO:gensim.corpora.dictionary:adding document #70000 to Dictionary(44023 unique tokens: ['guid', 'india?', 'invest', 'market', 'share']...)\n",
      "INFO:gensim.corpora.dictionary:adding document #80000 to Dictionary(47776 unique tokens: ['guid', 'india?', 'invest', 'market', 'share']...)\n",
      "INFO:gensim.corpora.dictionary:adding document #90000 to Dictionary(51266 unique tokens: ['guid', 'india?', 'invest', 'market', 'share']...)\n",
      "INFO:gensim.corpora.dictionary:adding document #100000 to Dictionary(54562 unique tokens: ['guid', 'india?', 'invest', 'market', 'share']...)\n",
      "INFO:gensim.corpora.dictionary:adding document #110000 to Dictionary(57766 unique tokens: ['guid', 'india?', 'invest', 'market', 'share']...)\n",
      "INFO:gensim.corpora.dictionary:adding document #120000 to Dictionary(60783 unique tokens: ['guid', 'india?', 'invest', 'market', 'share']...)\n",
      "INFO:gensim.corpora.dictionary:adding document #130000 to Dictionary(63716 unique tokens: ['guid', 'india?', 'invest', 'market', 'share']...)\n",
      "INFO:gensim.corpora.dictionary:adding document #140000 to Dictionary(66467 unique tokens: ['guid', 'india?', 'invest', 'market', 'share']...)\n",
      "INFO:gensim.corpora.dictionary:adding document #150000 to Dictionary(69275 unique tokens: ['guid', 'india?', 'invest', 'market', 'share']...)\n",
      "INFO:gensim.corpora.dictionary:adding document #160000 to Dictionary(71924 unique tokens: ['guid', 'india?', 'invest', 'market', 'share']...)\n",
      "INFO:gensim.corpora.dictionary:adding document #170000 to Dictionary(74485 unique tokens: ['guid', 'india?', 'invest', 'market', 'share']...)\n",
      "INFO:gensim.corpora.dictionary:adding document #180000 to Dictionary(76970 unique tokens: ['guid', 'india?', 'invest', 'market', 'share']...)\n",
      "INFO:gensim.corpora.dictionary:adding document #190000 to Dictionary(79444 unique tokens: ['guid', 'india?', 'invest', 'market', 'share']...)\n",
      "INFO:gensim.corpora.dictionary:adding document #200000 to Dictionary(81968 unique tokens: ['guid', 'india?', 'invest', 'market', 'share']...)\n",
      "INFO:gensim.corpora.dictionary:adding document #210000 to Dictionary(84353 unique tokens: ['guid', 'india?', 'invest', 'market', 'share']...)\n",
      "INFO:gensim.corpora.dictionary:adding document #220000 to Dictionary(86642 unique tokens: ['guid', 'india?', 'invest', 'market', 'share']...)\n",
      "INFO:gensim.corpora.dictionary:adding document #230000 to Dictionary(89006 unique tokens: ['guid', 'india?', 'invest', 'market', 'share']...)\n",
      "INFO:gensim.corpora.dictionary:adding document #240000 to Dictionary(91288 unique tokens: ['guid', 'india?', 'invest', 'market', 'share']...)\n",
      "INFO:gensim.corpora.dictionary:adding document #250000 to Dictionary(93665 unique tokens: ['guid', 'india?', 'invest', 'market', 'share']...)\n",
      "INFO:gensim.corpora.dictionary:adding document #260000 to Dictionary(95880 unique tokens: ['guid', 'india?', 'invest', 'market', 'share']...)\n",
      "INFO:gensim.corpora.dictionary:adding document #270000 to Dictionary(97820 unique tokens: ['guid', 'india?', 'invest', 'market', 'share']...)\n",
      "INFO:gensim.corpora.dictionary:adding document #280000 to Dictionary(99871 unique tokens: ['guid', 'india?', 'invest', 'market', 'share']...)\n",
      "INFO:gensim.corpora.dictionary:adding document #290000 to Dictionary(101909 unique tokens: ['guid', 'india?', 'invest', 'market', 'share']...)\n",
      "INFO:gensim.corpora.dictionary:adding document #300000 to Dictionary(103885 unique tokens: ['guid', 'india?', 'invest', 'market', 'share']...)\n",
      "INFO:gensim.corpora.dictionary:adding document #310000 to Dictionary(105792 unique tokens: ['guid', 'india?', 'invest', 'market', 'share']...)\n",
      "INFO:gensim.corpora.dictionary:adding document #320000 to Dictionary(107782 unique tokens: ['guid', 'india?', 'invest', 'market', 'share']...)\n",
      "INFO:gensim.corpora.dictionary:adding document #330000 to Dictionary(109659 unique tokens: ['guid', 'india?', 'invest', 'market', 'share']...)\n",
      "INFO:gensim.corpora.dictionary:adding document #340000 to Dictionary(111588 unique tokens: ['guid', 'india?', 'invest', 'market', 'share']...)\n",
      "INFO:gensim.corpora.dictionary:adding document #350000 to Dictionary(113520 unique tokens: ['guid', 'india?', 'invest', 'market', 'share']...)\n",
      "INFO:gensim.corpora.dictionary:adding document #360000 to Dictionary(115464 unique tokens: ['guid', 'india?', 'invest', 'market', 'share']...)\n",
      "INFO:gensim.corpora.dictionary:adding document #370000 to Dictionary(117279 unique tokens: ['guid', 'india?', 'invest', 'market', 'share']...)\n",
      "INFO:gensim.corpora.dictionary:adding document #380000 to Dictionary(119063 unique tokens: ['guid', 'india?', 'invest', 'market', 'share']...)\n",
      "INFO:gensim.corpora.dictionary:adding document #390000 to Dictionary(120839 unique tokens: ['guid', 'india?', 'invest', 'market', 'share']...)\n",
      "INFO:gensim.corpora.dictionary:adding document #400000 to Dictionary(122557 unique tokens: ['guid', 'india?', 'invest', 'market', 'share']...)\n",
      "INFO:gensim.corpora.dictionary:adding document #410000 to Dictionary(124303 unique tokens: ['guid', 'india?', 'invest', 'market', 'share']...)\n",
      "INFO:gensim.corpora.dictionary:adding document #420000 to Dictionary(126069 unique tokens: ['guid', 'india?', 'invest', 'market', 'share']...)\n",
      "INFO:gensim.corpora.dictionary:adding document #430000 to Dictionary(127811 unique tokens: ['guid', 'india?', 'invest', 'market', 'share']...)\n",
      "INFO:gensim.corpora.dictionary:adding document #440000 to Dictionary(129478 unique tokens: ['guid', 'india?', 'invest', 'market', 'share']...)\n",
      "INFO:gensim.corpora.dictionary:adding document #450000 to Dictionary(131154 unique tokens: ['guid', 'india?', 'invest', 'market', 'share']...)\n",
      "INFO:gensim.corpora.dictionary:adding document #460000 to Dictionary(132826 unique tokens: ['guid', 'india?', 'invest', 'market', 'share']...)\n",
      "INFO:gensim.corpora.dictionary:adding document #470000 to Dictionary(134475 unique tokens: ['guid', 'india?', 'invest', 'market', 'share']...)\n",
      "INFO:gensim.corpora.dictionary:adding document #480000 to Dictionary(136120 unique tokens: ['guid', 'india?', 'invest', 'market', 'share']...)\n",
      "INFO:gensim.corpora.dictionary:adding document #490000 to Dictionary(137666 unique tokens: ['guid', 'india?', 'invest', 'market', 'share']...)\n",
      "INFO:gensim.corpora.dictionary:adding document #500000 to Dictionary(139188 unique tokens: ['guid', 'india?', 'invest', 'market', 'share']...)\n",
      "INFO:gensim.corpora.dictionary:adding document #510000 to Dictionary(140747 unique tokens: ['guid', 'india?', 'invest', 'market', 'share']...)\n",
      "INFO:gensim.corpora.dictionary:adding document #520000 to Dictionary(142374 unique tokens: ['guid', 'india?', 'invest', 'market', 'share']...)\n",
      "INFO:gensim.corpora.dictionary:adding document #530000 to Dictionary(143967 unique tokens: ['guid', 'india?', 'invest', 'market', 'share']...)\n",
      "INFO:gensim.corpora.dictionary:adding document #540000 to Dictionary(145406 unique tokens: ['guid', 'india?', 'invest', 'market', 'share']...)\n",
      "INFO:gensim.corpora.dictionary:adding document #550000 to Dictionary(146866 unique tokens: ['guid', 'india?', 'invest', 'market', 'share']...)\n",
      "INFO:gensim.corpora.dictionary:adding document #560000 to Dictionary(148297 unique tokens: ['guid', 'india?', 'invest', 'market', 'share']...)\n",
      "INFO:gensim.corpora.dictionary:adding document #570000 to Dictionary(149752 unique tokens: ['guid', 'india?', 'invest', 'market', 'share']...)\n"
     ]
    },
    {
     "name": "stderr",
     "output_type": "stream",
     "text": [
      "INFO:gensim.corpora.dictionary:adding document #580000 to Dictionary(151296 unique tokens: ['guid', 'india?', 'invest', 'market', 'share']...)\n",
      "INFO:gensim.corpora.dictionary:adding document #590000 to Dictionary(152748 unique tokens: ['guid', 'india?', 'invest', 'market', 'share']...)\n",
      "INFO:gensim.corpora.dictionary:adding document #600000 to Dictionary(154306 unique tokens: ['guid', 'india?', 'invest', 'market', 'share']...)\n",
      "INFO:gensim.corpora.dictionary:adding document #610000 to Dictionary(155797 unique tokens: ['guid', 'india?', 'invest', 'market', 'share']...)\n",
      "INFO:gensim.corpora.dictionary:adding document #620000 to Dictionary(157249 unique tokens: ['guid', 'india?', 'invest', 'market', 'share']...)\n",
      "INFO:gensim.corpora.dictionary:adding document #630000 to Dictionary(158711 unique tokens: ['guid', 'india?', 'invest', 'market', 'share']...)\n",
      "INFO:gensim.corpora.dictionary:adding document #640000 to Dictionary(160154 unique tokens: ['guid', 'india?', 'invest', 'market', 'share']...)\n",
      "INFO:gensim.corpora.dictionary:built Dictionary(161169 unique tokens: ['guid', 'india?', 'invest', 'market', 'share']...) from 646962 documents (total 3739351 corpus positions)\n"
     ]
    }
   ],
   "source": [
    "# turn our tokenized documents into a idterm dictionary\n",
    "dictionary = corpora.Dictionary(train_data)\n",
    "\n",
    "# convert tokenized documents into a document-term matrix\n",
    "corpus = [dictionary.doc2bow(text) for text in train_data]"
   ]
  },
  {
   "cell_type": "code",
   "execution_count": 47,
   "metadata": {},
   "outputs": [],
   "source": [
    "row = []\n",
    "col = []\n",
    "data = []\n",
    "for i in range(len(corpus)):\n",
    "    for j in range(len(corpus[i])):\n",
    "        row.append(i)\n",
    "        col.append(corpus[i][j][0])\n",
    "        data.append(corpus[i][j][1])"
   ]
  },
  {
   "cell_type": "code",
   "execution_count": 48,
   "metadata": {},
   "outputs": [
    {
     "data": {
      "text/plain": [
       "161169"
      ]
     },
     "execution_count": 48,
     "metadata": {},
     "output_type": "execute_result"
    }
   ],
   "source": [
    "len(dictionary)"
   ]
  },
  {
   "cell_type": "code",
   "execution_count": 49,
   "metadata": {},
   "outputs": [],
   "source": [
    "# from scipy.sparse import csr_matrix\n",
    "# csr = csr_matrix((data, (row, col)), shape=(len(corpus), 161169))"
   ]
  },
  {
   "cell_type": "code",
   "execution_count": 202,
   "metadata": {},
   "outputs": [
    {
     "name": "stderr",
     "output_type": "stream",
     "text": [
      "INFO:lda:n_documents: 646962\n",
      "INFO:lda:vocab_size: 161169\n",
      "INFO:lda:n_words: 3739351\n",
      "INFO:lda:n_topics: 18\n",
      "INFO:lda:n_iter: 500\n",
      "WARNING:lda:all zero row in document-term matrix found\n",
      "/Users/apple/anaconda3/lib/python3.6/site-packages/lda/utils.py:55: FutureWarning: Conversion of the second argument of issubdtype from `int` to `np.signedinteger` is deprecated. In future, it will be treated as `np.int64 == np.dtype(int).type`.\n",
      "  if sparse and not np.issubdtype(doc_word.dtype, int):\n",
      "INFO:lda:<0> log likelihood: -47953146\n",
      "INFO:lda:<10> log likelihood: -38098152\n",
      "INFO:lda:<20> log likelihood: -35051860\n",
      "INFO:lda:<30> log likelihood: -34039839\n",
      "INFO:lda:<40> log likelihood: -33627246\n",
      "INFO:lda:<50> log likelihood: -33396547\n",
      "INFO:lda:<60> log likelihood: -33247104\n",
      "INFO:lda:<70> log likelihood: -33155262\n",
      "INFO:lda:<80> log likelihood: -33089738\n",
      "INFO:lda:<90> log likelihood: -33038926\n",
      "INFO:lda:<100> log likelihood: -33004966\n",
      "INFO:lda:<110> log likelihood: -32973141\n",
      "INFO:lda:<120> log likelihood: -32953375\n",
      "INFO:lda:<130> log likelihood: -32939382\n",
      "INFO:lda:<140> log likelihood: -32914011\n",
      "INFO:lda:<150> log likelihood: -32891566\n",
      "INFO:lda:<160> log likelihood: -32879518\n",
      "INFO:lda:<170> log likelihood: -32868107\n",
      "INFO:lda:<180> log likelihood: -32856803\n",
      "INFO:lda:<190> log likelihood: -32849123\n",
      "INFO:lda:<200> log likelihood: -32843193\n",
      "INFO:lda:<210> log likelihood: -32840627\n",
      "INFO:lda:<220> log likelihood: -32841328\n",
      "INFO:lda:<230> log likelihood: -32839788\n",
      "INFO:lda:<240> log likelihood: -32834888\n",
      "INFO:lda:<250> log likelihood: -32829592\n",
      "INFO:lda:<260> log likelihood: -32822716\n",
      "INFO:lda:<270> log likelihood: -32819332\n",
      "INFO:lda:<280> log likelihood: -32818773\n",
      "INFO:lda:<290> log likelihood: -32817990\n",
      "INFO:lda:<300> log likelihood: -32814266\n",
      "INFO:lda:<310> log likelihood: -32814469\n",
      "INFO:lda:<320> log likelihood: -32815135\n",
      "INFO:lda:<330> log likelihood: -32812245\n",
      "INFO:lda:<340> log likelihood: -32805835\n",
      "INFO:lda:<350> log likelihood: -32806142\n",
      "INFO:lda:<360> log likelihood: -32811917\n",
      "INFO:lda:<370> log likelihood: -32806070\n",
      "INFO:lda:<380> log likelihood: -32804373\n",
      "INFO:lda:<390> log likelihood: -32805529\n",
      "INFO:lda:<400> log likelihood: -32802748\n",
      "INFO:lda:<410> log likelihood: -32804101\n",
      "INFO:lda:<420> log likelihood: -32802693\n",
      "INFO:lda:<430> log likelihood: -32800957\n",
      "INFO:lda:<440> log likelihood: -32802255\n",
      "INFO:lda:<450> log likelihood: -32797184\n",
      "INFO:lda:<460> log likelihood: -32799301\n",
      "INFO:lda:<470> log likelihood: -32797758\n",
      "INFO:lda:<480> log likelihood: -32795613\n",
      "INFO:lda:<490> log likelihood: -32795610\n",
      "INFO:lda:<499> log likelihood: -32793948\n"
     ]
    },
    {
     "data": {
      "text/plain": [
       "<lda.lda.LDA at 0x1a3530b630>"
      ]
     },
     "execution_count": 202,
     "metadata": {},
     "output_type": "execute_result"
    }
   ],
   "source": [
    "model = lda.LDA(n_topics=18, random_state=0, n_iter=500)\n",
    "model.fit(csr)"
   ]
  },
  {
   "cell_type": "code",
   "execution_count": 95,
   "metadata": {},
   "outputs": [
    {
     "name": "stderr",
     "output_type": "stream",
     "text": [
      "WARNING:lda:all zero row in document-term matrix found\n",
      "/Users/apple/anaconda3/lib/python3.6/site-packages/lda/utils.py:55: FutureWarning: Conversion of the second argument of issubdtype from `int` to `np.signedinteger` is deprecated. In future, it will be treated as `np.int64 == np.dtype(int).type`.\n",
      "  if sparse and not np.issubdtype(doc_word.dtype, int):\n"
     ]
    },
    {
     "data": {
      "text/plain": [
       "array([[0.00420689, 0.95093737, 0.02252504, 0.00520717, 0.01712353],\n",
       "       [0.00602705, 0.94366221, 0.02822836, 0.00761385, 0.01446853],\n",
       "       [0.25238149, 0.01059254, 0.00138202, 0.01551256, 0.72013139],\n",
       "       ...,\n",
       "       [0.67060694, 0.01712695, 0.01004794, 0.29904942, 0.00316875],\n",
       "       [0.00170571, 0.00354284, 0.00305453, 0.98460506, 0.00709186],\n",
       "       [0.00170571, 0.00354284, 0.00305453, 0.98460506, 0.00709186]])"
      ]
     },
     "execution_count": 95,
     "metadata": {},
     "output_type": "execute_result"
    }
   ],
   "source": [
    "# model.transform(csr)"
   ]
  },
  {
   "cell_type": "code",
   "execution_count": 70,
   "metadata": {},
   "outputs": [
    {
     "name": "stderr",
     "output_type": "stream",
     "text": [
      "INFO:gensim.corpora.dictionary:adding document #0 to Dictionary(0 unique tokens: [])\n",
      "INFO:gensim.corpora.dictionary:adding document #10000 to Dictionary(12877 unique tokens: ['can', 'it?', 'lonely?', 'mental', 'solv']...)\n",
      "INFO:gensim.corpora.dictionary:adding document #20000 to Dictionary(20209 unique tokens: ['can', 'it?', 'lonely?', 'mental', 'solv']...)\n",
      "INFO:gensim.corpora.dictionary:adding document #30000 to Dictionary(26154 unique tokens: ['can', 'it?', 'lonely?', 'mental', 'solv']...)\n",
      "INFO:gensim.corpora.dictionary:adding document #40000 to Dictionary(31268 unique tokens: ['can', 'it?', 'lonely?', 'mental', 'solv']...)\n",
      "INFO:gensim.corpora.dictionary:adding document #50000 to Dictionary(35863 unique tokens: ['can', 'it?', 'lonely?', 'mental', 'solv']...)\n",
      "INFO:gensim.corpora.dictionary:adding document #60000 to Dictionary(40071 unique tokens: ['can', 'it?', 'lonely?', 'mental', 'solv']...)\n",
      "INFO:gensim.corpora.dictionary:adding document #70000 to Dictionary(43925 unique tokens: ['can', 'it?', 'lonely?', 'mental', 'solv']...)\n",
      "INFO:gensim.corpora.dictionary:adding document #80000 to Dictionary(47613 unique tokens: ['can', 'it?', 'lonely?', 'mental', 'solv']...)\n",
      "INFO:gensim.corpora.dictionary:adding document #90000 to Dictionary(51066 unique tokens: ['can', 'it?', 'lonely?', 'mental', 'solv']...)\n",
      "INFO:gensim.corpora.dictionary:adding document #100000 to Dictionary(54380 unique tokens: ['can', 'it?', 'lonely?', 'mental', 'solv']...)\n",
      "INFO:gensim.corpora.dictionary:adding document #110000 to Dictionary(57629 unique tokens: ['can', 'it?', 'lonely?', 'mental', 'solv']...)\n",
      "INFO:gensim.corpora.dictionary:adding document #120000 to Dictionary(60917 unique tokens: ['can', 'it?', 'lonely?', 'mental', 'solv']...)\n",
      "INFO:gensim.corpora.dictionary:adding document #130000 to Dictionary(63919 unique tokens: ['can', 'it?', 'lonely?', 'mental', 'solv']...)\n",
      "INFO:gensim.corpora.dictionary:adding document #140000 to Dictionary(66654 unique tokens: ['can', 'it?', 'lonely?', 'mental', 'solv']...)\n",
      "INFO:gensim.corpora.dictionary:adding document #150000 to Dictionary(69450 unique tokens: ['can', 'it?', 'lonely?', 'mental', 'solv']...)\n",
      "INFO:gensim.corpora.dictionary:adding document #160000 to Dictionary(72153 unique tokens: ['can', 'it?', 'lonely?', 'mental', 'solv']...)\n",
      "INFO:gensim.corpora.dictionary:built Dictionary(72627 unique tokens: ['can', 'it?', 'lonely?', 'mental', 'solv']...) from 161740 documents (total 934678 corpus positions)\n"
     ]
    }
   ],
   "source": [
    "# # # turn our tokenized documents into a idterm dictionary\n",
    "# val_dictionary = corpora.Dictionary(val_data)\n",
    "\n",
    "# convert tokenized documents into a document-term matrix\n",
    "val_corpus = [dictionary.doc2bow(text) for text in val_data]"
   ]
  },
  {
   "cell_type": "code",
   "execution_count": 78,
   "metadata": {},
   "outputs": [],
   "source": [
    "val_row = []\n",
    "val_col = []\n",
    "val_data_ = []\n",
    "for i in range(len(val_corpus)):\n",
    "    for j in range(len(val_corpus[i])):\n",
    "        val_row.append(i)\n",
    "        val_col.append(val_corpus[i][j][0])\n",
    "        val_data_.append(val_corpus[i][j][1])\n",
    "        \n",
    "val_csr = csr_matrix((val_data_, (val_row, val_col)), shape=(len(val_corpus), len(dictionary)))"
   ]
  },
  {
   "cell_type": "code",
   "execution_count": 203,
   "metadata": {},
   "outputs": [
    {
     "name": "stderr",
     "output_type": "stream",
     "text": [
      "WARNING:lda:all zero row in document-term matrix found\n",
      "WARNING:lda:all zero column in document-term matrix found\n",
      "/Users/apple/anaconda3/lib/python3.6/site-packages/lda/utils.py:55: FutureWarning: Conversion of the second argument of issubdtype from `int` to `np.signedinteger` is deprecated. In future, it will be treated as `np.int64 == np.dtype(int).type`.\n",
      "  if sparse and not np.issubdtype(doc_word.dtype, int):\n"
     ]
    }
   ],
   "source": [
    "doc_topic = model.transform(val_csr)"
   ]
  },
  {
   "cell_type": "code",
   "execution_count": 204,
   "metadata": {},
   "outputs": [],
   "source": [
    "p1 = [doc_topic[i] for i in range(0,len(doc_topic),2)]\n",
    "p2 = [doc_topic[i] for i in range(1,len(doc_topic),2)]"
   ]
  },
  {
   "cell_type": "code",
   "execution_count": 205,
   "metadata": {},
   "outputs": [
    {
     "name": "stderr",
     "output_type": "stream",
     "text": [
      "/Users/apple/anaconda3/lib/python3.6/site-packages/scipy/stats/_distn_infrastructure.py:2514: RuntimeWarning: invalid value encountered in true_divide\n",
      "  qk = 1.0*qk / np.sum(qk, axis=0)\n",
      "/Users/apple/anaconda3/lib/python3.6/site-packages/scipy/stats/_distn_infrastructure.py:2507: RuntimeWarning: invalid value encountered in true_divide\n",
      "  pk = 1.0*pk / np.sum(pk, axis=0)\n"
     ]
    }
   ],
   "source": [
    "mu_info = []\n",
    "for i in range(len(p1)):\n",
    "    mu_info.append(scipy.stats.entropy(p1[i],p2[i]) + scipy.stats.entropy(p2[i],p1[i]))"
   ]
  },
  {
   "cell_type": "code",
   "execution_count": 221,
   "metadata": {},
   "outputs": [
    {
     "name": "stdout",
     "output_type": "stream",
     "text": [
      "0.46044268579201186\n",
      "0.4055097625763343\n",
      "0.9927594529364441\n",
      "0.575817082417903\n",
      "7836\n"
     ]
    }
   ],
   "source": [
    "import scipy\n",
    "\n",
    "val_duplicate = []\n",
    "for m in mu_info:\n",
    "    if m >= 6.5:\n",
    "        val_duplicate.append('0')\n",
    "    else:\n",
    "        val_duplicate.append('1')\n",
    "val_duplicate = np.array(val_duplicate).astype('int')\n",
    "val_label = val_label.astype('int')\n",
    "\n",
    "import sklearn\n",
    "print(sklearn.metrics.accuracy_score(val_label, val_duplicate))\n",
    "print(sklearn.metrics.precision_score(val_label, val_duplicate))\n",
    "print(sklearn.metrics.recall_score(val_label, val_duplicate))\n",
    "print(sklearn.metrics.f1_score(val_label, val_duplicate))\n",
    "print(np.sum(np.subtract(1, val_duplicate)))"
   ]
  },
  {
   "cell_type": "code",
   "execution_count": 222,
   "metadata": {},
   "outputs": [],
   "source": [
    "np.save('val_duplicate_t18.npy', val_duplicate)"
   ]
  },
  {
   "cell_type": "code",
   "execution_count": 223,
   "metadata": {},
   "outputs": [
    {
     "data": {
      "text/plain": [
       "array([[2.48281764e-05, 7.09321584e-03, 4.13114416e-08, ...,\n",
       "        4.13114416e-08, 4.13114416e-08, 4.13114416e-08],\n",
       "       [4.51496438e-08, 4.51496438e-08, 4.51496438e-08, ...,\n",
       "        4.51496438e-08, 4.51496438e-08, 4.51496438e-08],\n",
       "       [2.05471389e-04, 4.89101139e-08, 4.89101139e-08, ...,\n",
       "        4.89101139e-08, 4.89101139e-08, 4.89101139e-08],\n",
       "       ...,\n",
       "       [4.49216743e-08, 4.49216743e-08, 4.49216743e-08, ...,\n",
       "        4.49216743e-08, 4.49216743e-08, 4.49216743e-08],\n",
       "       [5.25721752e-08, 5.25721752e-08, 1.31961417e-03, ...,\n",
       "        5.25721752e-08, 5.25721752e-08, 5.25721752e-08],\n",
       "       [4.73761456e-08, 4.73761456e-08, 4.73761456e-08, ...,\n",
       "        4.73761456e-08, 4.73761456e-08, 4.73761456e-08]])"
      ]
     },
     "execution_count": 223,
     "metadata": {},
     "output_type": "execute_result"
    }
   ],
   "source": [
    "model.topic_word_"
   ]
  },
  {
   "cell_type": "code",
   "execution_count": 224,
   "metadata": {},
   "outputs": [
    {
     "data": {
      "text/plain": [
       "<gensim.corpora.dictionary.Dictionary at 0x1a50846c50>"
      ]
     },
     "execution_count": 224,
     "metadata": {},
     "output_type": "execute_result"
    }
   ],
   "source": [
    "dictionary"
   ]
  },
  {
   "cell_type": "code",
   "execution_count": null,
   "metadata": {},
   "outputs": [],
   "source": []
  }
 ],
 "metadata": {
  "kernelspec": {
   "display_name": "Python 3",
   "language": "python",
   "name": "python3"
  },
  "language_info": {
   "codemirror_mode": {
    "name": "ipython",
    "version": 3
   },
   "file_extension": ".py",
   "mimetype": "text/x-python",
   "name": "python",
   "nbconvert_exporter": "python",
   "pygments_lexer": "ipython3",
   "version": "3.6.5"
  }
 },
 "nbformat": 4,
 "nbformat_minor": 2
}
