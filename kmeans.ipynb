{
 "cells": [
  {
   "cell_type": "code",
   "execution_count": null,
   "metadata": {},
   "outputs": [],
   "source": [
    "import numpy as np\n",
    "import sys"
   ]
  },
  {
   "cell_type": "code",
   "execution_count": null,
   "metadata": {},
   "outputs": [],
   "source": [
    "class kmeans:\n",
    "    def initcenter(self):\n",
    "        self.center = np.zeros((self.k,self.dim))\n",
    "        for i in range(self.k):\n",
    "            index = np.random.randint(0, self.sample_num)\n",
    "            self.center[i, :] = self.dataset[index, :]\n",
    "    \n",
    "    def distance(self, vec1, vec2):\n",
    "        return np.sqrt(np.sum((vec1-vec2)**2))\n",
    "    \n",
    "    def getResult(self, dataset, k):\n",
    "        self.dataset = dataset\n",
    "        self.k = k\n",
    "        self.sample_num, self.dim = np.shape(dataset)\n",
    "        self.initcenter()\n",
    "        change = True\n",
    "        cluster_record = np.zeros((self.sample_num, 1))\n",
    "        while change:\n",
    "            change = False\n",
    "            for i in range(self.sample_num):\n",
    "                min_distance = sys.maxint()\n",
    "                min_index = 0\n",
    "                for j in range(k):\n",
    "                    dist = self.distance(center[j,:], dataset[i, :])\n",
    "                    if dist < min_distance:\n",
    "                        min_distance = dist\n",
    "                        min_index = j\n",
    "                if cluster_record[i, 0] != min_index:\n",
    "                    chage = True\n",
    "                    cluster_record[i] = min_index\n",
    "        for j in range(k):\n",
    "            point_cluster = [dataset[i] for i in range(len(cluster_record)) if cluster_record[i] == j]\n",
    "            center[j, :] = np.mean(point_cluster, axis = 0)\n"
   ]
  }
 ],
 "metadata": {
  "kernelspec": {
   "display_name": "Python 3",
   "language": "python",
   "name": "python3"
  },
  "language_info": {
   "codemirror_mode": {
    "name": "ipython",
    "version": 3
   },
   "file_extension": ".py",
   "mimetype": "text/x-python",
   "name": "python",
   "nbconvert_exporter": "python",
   "pygments_lexer": "ipython3",
   "version": "3.6.5"
  }
 },
 "nbformat": 4,
 "nbformat_minor": 2
}
